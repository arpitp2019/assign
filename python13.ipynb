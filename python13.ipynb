{
 "cells": [
  {
   "cell_type": "markdown",
   "metadata": {},
   "source": [
    "1. Advantages of Excel Spreadsheets over CSV Spreadsheets:\n",
    "\n",
    "Excel spreadsheets support complex formatting, including cell colors, fonts, and cell borders, which CSV files do not.\n",
    "Excel allows you to create formulas and perform calculations within the spreadsheet.\n",
    "Excel supports multiple worksheets within a single file.\n",
    "Excel can embed charts, images, and other objects in the spreadsheet.\n",
    "Excel files can be password-protected and encrypted for security.\n",
    "\n",
    "\n",
    "2. csv.reader() and csv.writer() Arguments:\n",
    "\n",
    "To create a reader object, you pass a file-like object (e.g., a file opened in read mode) to csv.reader().\n",
    "To create a writer object, you pass a file-like object (e.g., a file opened in write mode) to csv.writer().\n",
    "\n",
    "\n",
    "3.  Modes for File Objects:\n",
    "\n",
    "For a reader object, the file object should be opened in read mode ('r').\n",
    "For a writer object, the file object should be opened in write mode ('w').\n",
    "\n",
    "\n",
    "4.  Method to Write a List to a CSV File:\n",
    "The writerow() method of a writer object takes a list argument and writes it as a row to a CSV file\n",
    "\n",
    "5.  delimiter and line terminator Keyword Arguments:\n",
    "\n",
    "The delimiter keyword argument specifies the character used to separate fields in the CSV file. By default, it is a comma (,).\n",
    "The lineterminator keyword argument specifies the character(s) used to terminate lines. By default, it is the newline character (\\n)."
   ]
  },
  {
   "cell_type": "code",
   "execution_count": 1,
   "metadata": {},
   "outputs": [],
   "source": [
    "'''6.What function takes a string of JSON data and returns a Python data structure?\n",
    "'''\n",
    "\n",
    "import json\n",
    "\n",
    "json_data = '{\"name\": \"John\", \"age\": 30}'\n",
    "python_data = json.loads(json_data)"
   ]
  },
  {
   "cell_type": "code",
   "execution_count": 2,
   "metadata": {},
   "outputs": [],
   "source": [
    "'''7. What function takes a Python data structure and returns a string of JSON data? \n",
    "\n",
    "'''\n",
    "\n",
    "import json\n",
    "\n",
    "python_data = {\"name\": \"John\", \"age\": 30}\n",
    "json_data = json.dumps(python_data)"
   ]
  },
  {
   "cell_type": "code",
   "execution_count": null,
   "metadata": {},
   "outputs": [],
   "source": []
  }
 ],
 "metadata": {
  "kernelspec": {
   "display_name": "base",
   "language": "python",
   "name": "python3"
  },
  "language_info": {
   "codemirror_mode": {
    "name": "ipython",
    "version": 3
   },
   "file_extension": ".py",
   "mimetype": "text/x-python",
   "name": "python",
   "nbconvert_exporter": "python",
   "pygments_lexer": "ipython3",
   "version": "3.11.5"
  }
 },
 "nbformat": 4,
 "nbformat_minor": 2
}
