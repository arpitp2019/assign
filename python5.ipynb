{
 "cells": [
  {
   "cell_type": "code",
   "execution_count": 4,
   "metadata": {},
   "outputs": [],
   "source": [
    "#1 \n",
    "empty_dict = {}"
   ]
  },
  {
   "cell_type": "code",
   "execution_count": 5,
   "metadata": {},
   "outputs": [
    {
     "data": {
      "text/plain": [
       "{'foo': 42}"
      ]
     },
     "execution_count": 5,
     "metadata": {},
     "output_type": "execute_result"
    }
   ],
   "source": [
    "#2 \n",
    "{'foo': 42}"
   ]
  },
  {
   "cell_type": "markdown",
   "metadata": {},
   "source": [
    "3. The most significant distinction between a dictionary and a list is that a dictionary is a collection of key-value pairs, where each key is unique, and it allows you to access values by their associated keys. In contrast, a list is an ordered collection of elements that you access by their positions (indexes), and it can contain duplicate values.\n",
    "\n",
    "4. If you try to access spam['foo'] and spam is {'bar': 100}, you will get a KeyError because 'foo' is not a key in the dictionary spam. The code will raise an error because 'foo' is not present as a key in the dictionary.\n",
    "\n",
    "5. If a dictionary is stored in spam, the expression 'cat' in spam checks if there is a key 'cat' in the dictionary spam. It will return True if 'cat' is a key in spam. On the other hand, 'cat' in spam.keys() essentially does the same thing; it checks if 'cat' is a key in the dictionary spam. Both expressions are equivalent.\n",
    "\n",
    "6. If a dictionary is stored in spam, the expression 'cat' in spam checks if there is a key 'cat' in the dictionary spam, while 'cat' in spam.values() checks if 'cat' is one of the values in the dictionary spam. The latter expression will return True if 'cat' is a value associated with any key in spam."
   ]
  },
  {
   "cell_type": "markdown",
   "metadata": {},
   "source": [
    "7. if 'color' not in spam:\n",
    "    spam['color'] = 'black'\n",
    "\n",
    "spam.setdefault('color', 'black')\n"
   ]
  },
  {
   "cell_type": "markdown",
   "metadata": {},
   "source": [
    "8. You can \"pretty print\" dictionary values using the pprint module and its pprint() function. Here's an example of how to use it:"
   ]
  },
  {
   "cell_type": "code",
   "execution_count": 3,
   "metadata": {},
   "outputs": [
    {
     "name": "stdout",
     "output_type": "stream",
     "text": [
      "{'age': 30, 'city': 'New York', 'name': 'John'}\n"
     ]
    }
   ],
   "source": [
    "import pprint\n",
    "\n",
    "my_dict = {'name': 'John', 'age': 30, 'city': 'New York'}\n",
    "pprint.pprint(my_dict)\n"
   ]
  },
  {
   "cell_type": "code",
   "execution_count": null,
   "metadata": {},
   "outputs": [],
   "source": []
  }
 ],
 "metadata": {
  "kernelspec": {
   "display_name": "base",
   "language": "python",
   "name": "python3"
  },
  "language_info": {
   "codemirror_mode": {
    "name": "ipython",
    "version": 3
   },
   "file_extension": ".py",
   "mimetype": "text/x-python",
   "name": "python",
   "nbconvert_exporter": "python",
   "pygments_lexer": "ipython3",
   "version": "3.11.5"
  }
 },
 "nbformat": 4,
 "nbformat_minor": 2
}
