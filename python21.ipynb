{
 "cells": [
  {
   "cell_type": "code",
   "execution_count": 10,
   "metadata": {},
   "outputs": [],
   "source": [
    "''' \n",
    "1. Add the current date to the text file today.txt as a string.\n",
    "'''\n",
    "from datetime import date\n",
    "\n",
    "current_date = date.today().isoformat()\n",
    "\n",
    "with open('today.txt', 'w') as file:\n",
    "    file.write(current_date)\n"
   ]
  },
  {
   "cell_type": "code",
   "execution_count": 11,
   "metadata": {},
   "outputs": [],
   "source": [
    "'''  \n",
    "2. Read the text file today.txt into the string today_string\n",
    "'''\n",
    "with open('today.txt', 'r') as file:\n",
    "    today_string = file.read()\n"
   ]
  },
  {
   "cell_type": "code",
   "execution_count": 12,
   "metadata": {},
   "outputs": [],
   "source": [
    "''' \n",
    "3. Parse the date from today_string.\n",
    "'''\n",
    "from datetime import datetime\n",
    "\n",
    "parsed_date = datetime.strptime(today_string, '%Y-%m-%d').date()\n"
   ]
  },
  {
   "cell_type": "code",
   "execution_count": 13,
   "metadata": {},
   "outputs": [],
   "source": [
    "''' \n",
    "4. List the files in your current directory\n",
    "'''\n",
    "import os\n",
    "\n",
    "current_directory_files = os.listdir('.')\n"
   ]
  },
  {
   "cell_type": "code",
   "execution_count": 14,
   "metadata": {},
   "outputs": [],
   "source": [
    "''' \n",
    "5. Create a list of all of the files in your parent directory (minimum five files should be available).\n",
    "'''\n",
    "parent_directory_files = os.listdir('..')\n"
   ]
  },
  {
   "cell_type": "code",
   "execution_count": 15,
   "metadata": {},
   "outputs": [],
   "source": [
    "''' \n",
    "6. Use multiprocessing to create three separate processes. Make each one wait a random number of\n",
    "seconds between one and five, print the current time, and then exit.\n",
    "'''\n",
    "import multiprocessing\n",
    "import random\n",
    "import time\n",
    "\n",
    "def print_current_time(process_id):\n",
    "    wait_time = random.randint(1, 5)\n",
    "    time.sleep(wait_time)\n",
    "    current_time = time.strftime('%H:%M:%S', time.localtime())\n",
    "    print(f'Process {process_id} - Current Time: {current_time}')\n",
    "\n",
    "if __name__ == '__main__':\n",
    "    processes = []\n",
    "\n",
    "    for i in range(3):\n",
    "        process = multiprocessing.Process(target=print_current_time, args=(i,))\n",
    "        processes.append(process)\n",
    "        process.start()\n",
    "\n",
    "    for process in processes:\n",
    "        process.join()\n"
   ]
  },
  {
   "cell_type": "code",
   "execution_count": 19,
   "metadata": {},
   "outputs": [],
   "source": [
    "''' \n",
    "7. Create a date object of your day of birth.\n",
    "'''\n",
    "from datetime import date\n",
    "\n",
    "birthdate = date(1996, 5, 28)\n",
    "\n"
   ]
  },
  {
   "cell_type": "code",
   "execution_count": 20,
   "metadata": {},
   "outputs": [],
   "source": [
    "''' \n",
    "8. What day of the week was your day of birth?\n",
    "'''\n",
    "day_of_week = birthdate.strftime('%A')\n"
   ]
  },
  {
   "cell_type": "code",
   "execution_count": 21,
   "metadata": {},
   "outputs": [],
   "source": [
    "''' \n",
    "9. When will you be (or when were you) 10,000 days old?\n",
    "'''\n",
    "from datetime import timedelta\n",
    "\n",
    "ten_thousand_days = timedelta(days=10000)\n",
    "milestone_date = birthdate + ten_thousand_days\n"
   ]
  },
  {
   "cell_type": "code",
   "execution_count": null,
   "metadata": {},
   "outputs": [],
   "source": []
  }
 ],
 "metadata": {
  "kernelspec": {
   "display_name": "base",
   "language": "python",
   "name": "python3"
  },
  "language_info": {
   "codemirror_mode": {
    "name": "ipython",
    "version": 3
   },
   "file_extension": ".py",
   "mimetype": "text/x-python",
   "name": "python",
   "nbconvert_exporter": "python",
   "pygments_lexer": "ipython3",
   "version": "3.11.5"
  }
 },
 "nbformat": 4,
 "nbformat_minor": 2
}
