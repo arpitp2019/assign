{
 "cells": [
  {
   "cell_type": "code",
   "execution_count": 1,
   "metadata": {},
   "outputs": [
    {
     "name": "stdout",
     "output_type": "stream",
     "text": [
      "[10, 10, 10]\n",
      "[10, 10, 10]\n",
      "[10, 10, 10]\n"
     ]
    }
   ],
   "source": [
    "def add_matrices(mat1, mat2):\n",
    "    if len(mat1) != len(mat2) or len(mat1[0]) != len(mat2[0]):\n",
    "        return \"Matrix dimensions do not match. Cannot add.\"\n",
    "    \n",
    "    result = []\n",
    "    for i in range(len(mat1)):\n",
    "        row = []\n",
    "        for j in range(len(mat1[0])):\n",
    "            row.append(mat1[i][j] + mat2[i][j])\n",
    "        result.append(row)\n",
    "    \n",
    "    return result\n",
    "\n",
    "# Example matrices\n",
    "matrix1 = [[1, 2, 3], [4, 5, 6], [7, 8, 9]]\n",
    "matrix2 = [[9, 8, 7], [6, 5, 4], [3, 2, 1]]\n",
    "\n",
    "result = add_matrices(matrix1, matrix2)\n",
    "if isinstance(result, str):\n",
    "    print(result)\n",
    "else:\n",
    "    for row in result:\n",
    "        print(row)\n"
   ]
  },
  {
   "cell_type": "code",
   "execution_count": null,
   "metadata": {},
   "outputs": [],
   "source": [
    "def multiply_matrices(mat1, mat2):\n",
    "    if len(mat1[0]) != len(mat2):\n",
    "        return \"Matrix dimensions do not match. Cannot multiply.\"\n",
    "\n",
    "    result = []\n",
    "    for i in range(len(mat1)):\n",
    "        row = []\n",
    "        for j in range(len(mat2[0])):\n",
    "            cell_value = 0\n",
    "            for k in range(len(mat2)):\n",
    "                cell_value += mat1[i][k] * mat2[k][j]\n",
    "            row.append(cell_value)\n",
    "        result.append(row)\n",
    "\n",
    "    return result\n",
    "\n",
    "# Example matrices\n",
    "matrix1 = [[1, 2], [3, 4]]\n",
    "matrix2 = [[5, 6], [7, 8]]\n",
    "\n",
    "result = multiply_matrices(matrix1, matrix2)\n",
    "if isinstance(result, str):\n",
    "    print(result)\n",
    "else:\n",
    "    for row in result:\n",
    "        print(row)\n"
   ]
  },
  {
   "cell_type": "code",
   "execution_count": null,
   "metadata": {},
   "outputs": [],
   "source": [
    "def transpose_matrix(mat):\n",
    "    result = [[mat[j][i] for j in range(len(mat))] for i in range(len(mat[0]))]\n",
    "    return result\n",
    "\n",
    "# Example matrix\n",
    "matrix = [[1, 2, 3], [4, 5, 6]]\n",
    "\n",
    "result = transpose_matrix(matrix)\n",
    "for row in result:\n",
    "    print(row)\n"
   ]
  },
  {
   "cell_type": "code",
   "execution_count": null,
   "metadata": {},
   "outputs": [],
   "source": [
    "def sort_words_alphabetically(sentence):\n",
    "    words = sentence.split()\n",
    "    words.sort()\n",
    "    return ' '.join(words)\n",
    "\n",
    "input_sentence = input(\"Enter a sentence: \")\n",
    "sorted_sentence = sort_words_alphabetically(input_sentence)\n",
    "print(\"Sorted words:\", sorted_sentence)\n"
   ]
  },
  {
   "cell_type": "code",
   "execution_count": null,
   "metadata": {},
   "outputs": [],
   "source": [
    "import string\n",
    "\n",
    "def remove_punctuation(input_string):\n",
    "    translator = str.maketrans('', '', string.punctuation)\n",
    "    return input_string.translate(translator)\n",
    "\n",
    "input_string = input(\"Enter a string with punctuation: \")\n",
    "clean_string = remove_punctuation(input_string)\n",
    "print(\"String without punctuation:\", clean_string)\n"
   ]
  },
  {
   "cell_type": "code",
   "execution_count": null,
   "metadata": {},
   "outputs": [],
   "source": []
  },
  {
   "cell_type": "code",
   "execution_count": null,
   "metadata": {},
   "outputs": [],
   "source": []
  }
 ],
 "metadata": {
  "kernelspec": {
   "display_name": "base",
   "language": "python",
   "name": "python3"
  },
  "language_info": {
   "codemirror_mode": {
    "name": "ipython",
    "version": 3
   },
   "file_extension": ".py",
   "mimetype": "text/x-python",
   "name": "python",
   "nbconvert_exporter": "python",
   "pygments_lexer": "ipython3",
   "version": "3.11.5"
  }
 },
 "nbformat": 4,
 "nbformat_minor": 2
}
