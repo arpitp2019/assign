{
 "cells": [
  {
   "cell_type": "markdown",
   "metadata": {},
   "source": [
    "1. How do you distinguish between shutil.copy() and shutil.copytree()?\n",
    "\n",
    "shutil.copy(src, dst): This function is used to copy a single file from the source (src) to the destination (dst). It creates a new file at the destination with the same contents as the source file.\n",
    "shutil.copytree(src, dst): This function is used to copy an entire directory (folder) from the source (src) to the destination (dst). It creates a new directory at the destination and copies all the files and subdirectories from the source directory to the destination.\n",
    "\n",
    "\n",
    "2. What function is used to rename files?\n",
    "The shutil.move(src, dst) function is used to rename files and directories in Python. It can also be used to move files to a different location while renaming them in the process.\n",
    "\n",
    "3. What is the difference between the delete functions in the send2trash and shutil modules?\n",
    "\n",
    "send2trash module: The send2trash module provides a cross-platform way to move files and directories to the trash or recycle bin, allowing for safe deletion with a potential option for recovery.\n",
    "shutil module: The shutil module includes functions like shutil.rmtree() to recursively delete directories and os.remove() to delete individual files. These functions permanently delete files and directories, and there is no option for recovery from the system's trash or recycle bin.\n",
    "\n",
    "\n",
    "4. ZipFile objects have a close() method just like File objects’ close() method. What ZipFile method is equivalent to File objects’ open() method?\n",
    "The zipfile.ZipFile(filename, mode) method is equivalent to the open() method for file objects. It allows you to create or open a ZIP file (filename) with the specified mode (e.g., 'r' for reading or 'w' for writing)."
   ]
  },
  {
   "cell_type": "code",
   "execution_count": 1,
   "metadata": {},
   "outputs": [],
   "source": [
    "'''5. Create a program that searches a folder tree for files with a certain file extension (such as .pdf or .jpg). Copy these files from whatever location they are in to a new folder.\n",
    "Here's a Python program that accomplishes this task using the os and shutil modules:\n",
    "'''\n",
    "import os\n",
    "import shutil\n",
    "\n",
    "def copy_files_by_extension(source_folder, destination_folder, extension):\n",
    "    if not os.path.exists(destination_folder):\n",
    "        os.makedirs(destination_folder)\n",
    "\n",
    "    for root, _, files in os.walk(source_folder):\n",
    "        for file in files:\n",
    "            if file.endswith(extension):\n",
    "                source_path = os.path.join(root, file)\n",
    "                destination_path = os.path.join(destination_folder, file)\n",
    "\n",
    "                # Copy the file to the destination folder\n",
    "                shutil.copy2(source_path, destination_path)\n",
    "                print(f\"Copied: {source_path} to {destination_path}\")\n",
    "\n",
    "# Usage example:\n",
    "source_folder = \"/path/to/source_folder\"\n",
    "destination_folder = \"/path/to/destination_folder\"\n",
    "file_extension = \".pdf\"  # Change this to the desired file extension\n",
    "copy_files_by_extension(source_folder, destination_folder, file_extension)"
   ]
  },
  {
   "cell_type": "code",
   "execution_count": null,
   "metadata": {},
   "outputs": [],
   "source": []
  }
 ],
 "metadata": {
  "kernelspec": {
   "display_name": "base",
   "language": "python",
   "name": "python3"
  },
  "language_info": {
   "codemirror_mode": {
    "name": "ipython",
    "version": 3
   },
   "file_extension": ".py",
   "mimetype": "text/x-python",
   "name": "python",
   "nbconvert_exporter": "python",
   "pygments_lexer": "ipython3",
   "version": "3.11.5"
  }
 },
 "nbformat": 4,
 "nbformat_minor": 2
}
