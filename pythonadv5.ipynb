{
 "cells": [
  {
   "cell_type": "code",
   "execution_count": 1,
   "metadata": {},
   "outputs": [
    {
     "name": "stdout",
     "output_type": "stream",
     "text": [
      "LCM of 55 and 5 is 55\n"
     ]
    }
   ],
   "source": [
    "# Function to find the Greatest Common Divisor (GCD)\n",
    "def gcd(x, y):\n",
    "    while y != 0:\n",
    "        x, y = y, x % y\n",
    "    return x\n",
    "\n",
    "# Function to find the LCM\n",
    "def lcm(x, y):\n",
    "    return (x * y) // gcd(x, y)\n",
    "\n",
    "# Input two numbers\n",
    "num1 = int(input(\"Enter first number: \"))\n",
    "num2 = int(input(\"Enter second number: \"))\n",
    "\n",
    "# Calculate and print LCM\n",
    "lcm_result = lcm(num1, num2)\n",
    "print(\"LCM of\", num1, \"and\", num2, \"is\", lcm_result)\n"
   ]
  },
  {
   "cell_type": "code",
   "execution_count": null,
   "metadata": {},
   "outputs": [],
   "source": [
    "# Function to find the Greatest Common Divisor (GCD)\n",
    "def gcd(x, y):\n",
    "    while y != 0:\n",
    "        x, y = y, x % y\n",
    "    return x\n",
    "\n",
    "# Input two numbers\n",
    "num1 = int(input(\"Enter first number: \"))\n",
    "num2 = int(input(\"Enter second number: \"))\n",
    "\n",
    "# Calculate and print HCF\n",
    "hcf_result = gcd(num1, num2)\n",
    "print(\"HCF of\", num1, \"and\", num2, \"is\", hcf_result)\n"
   ]
  },
  {
   "cell_type": "code",
   "execution_count": null,
   "metadata": {},
   "outputs": [],
   "source": [
    "# Input a decimal number\n",
    "decimal_num = int(input(\"Enter a decimal number: \"))\n",
    "\n",
    "# Convert to binary, octal, and hexadecimal\n",
    "binary_num = bin(decimal_num)\n",
    "octal_num = oct(decimal_num)\n",
    "hexadecimal_num = hex(decimal_num)\n",
    "\n",
    "print(\"Binary:\", binary_num)\n",
    "print(\"Octal:\", octal_num)\n",
    "print(\"Hexadecimal:\", hexadecimal_num)\n"
   ]
  },
  {
   "cell_type": "code",
   "execution_count": null,
   "metadata": {},
   "outputs": [],
   "source": [
    "# Input a character\n",
    "char = input(\"Enter a character: \")\n",
    "\n",
    "# Get the ASCII value\n",
    "ascii_value = ord(char)\n",
    "\n",
    "print(\"ASCII value of\", char, \"is\", ascii_value)\n"
   ]
  },
  {
   "cell_type": "code",
   "execution_count": null,
   "metadata": {},
   "outputs": [],
   "source": [
    "# Function to add two numbers\n",
    "def add(x, y):\n",
    "    return x + y\n",
    "\n",
    "# Function to subtract two numbers\n",
    "def subtract(x, y):\n",
    "    return x - y\n",
    "\n",
    "# Function to multiply two numbers\n",
    "def multiply(x, y):\n",
    "    return x * y\n",
    "\n",
    "# Function to divide two numbers\n",
    "def divide(x, y):\n",
    "    if y == 0:\n",
    "        return \"Cannot divide by zero\"\n",
    "    return x / y\n",
    "\n",
    "# Input two numbers and the operation\n",
    "num1 = float(input(\"Enter first number: \"))\n",
    "num2 = float(input(\"Enter second number: \"))\n",
    "operation = input(\"Enter operation (+, -, *, /): \")\n",
    "\n",
    "# Perform the selected operation\n",
    "if operation == \"+\":\n",
    "    result = add(num1, num2)\n",
    "elif operation == \"-\":\n",
    "    result = subtract(num1, num2)\n",
    "elif operation == \"*\":\n",
    "    result = multiply(num1, num2)\n",
    "elif operation == \"/\":\n",
    "    result = divide(num1, num2)\n",
    "else:\n",
    "    result = \"Invalid operation\"\n",
    "\n",
    "print(\"Result:\", result)\n"
   ]
  },
  {
   "cell_type": "code",
   "execution_count": null,
   "metadata": {},
   "outputs": [],
   "source": [
    "# Function to add two numbers\n",
    "def add(x, y):\n",
    "    return x + y\n",
    "\n",
    "# Function to subtract two numbers\n",
    "def subtract(x, y):\n",
    "    return x - y\n",
    "\n",
    "# Function to multiply two numbers\n",
    "def multiply(x, y):\n",
    "    return x * y\n",
    "\n",
    "# Function to divide two numbers\n",
    "def divide(x, y):\n",
    "    if y == 0:\n",
    "        return \"Cannot divide by zero\"\n",
    "    return x / y\n",
    "\n",
    "# Input two numbers and the operation\n",
    "num1 = float(input(\"Enter first number: \"))\n",
    "num2 = float(input(\"Enter second number: \"))\n",
    "operation = input(\"Enter operation (+, -, *, /): \")\n",
    "\n",
    "# Perform the selected operation\n",
    "if operation == \"+\":\n",
    "    result = add(num1, num2)\n",
    "elif operation == \"-\":\n",
    "    result = subtract(num1, num2)\n",
    "elif operation == \"*\":\n",
    "    result = multiply(num1, num2)\n",
    "elif operation == \"/\":\n",
    "    result = divide(num1, num2)\n",
    "else:\n",
    "    result = \"Invalid operation\"\n",
    "\n",
    "print(\"Result:\", result)\n"
   ]
  },
  {
   "cell_type": "code",
   "execution_count": null,
   "metadata": {},
   "outputs": [],
   "source": []
  }
 ],
 "metadata": {
  "kernelspec": {
   "display_name": "base",
   "language": "python",
   "name": "python3"
  },
  "language_info": {
   "codemirror_mode": {
    "name": "ipython",
    "version": 3
   },
   "file_extension": ".py",
   "mimetype": "text/x-python",
   "name": "python",
   "nbconvert_exporter": "python",
   "pygments_lexer": "ipython3",
   "version": "3.11.5"
  }
 },
 "nbformat": 4,
 "nbformat_minor": 2
}
