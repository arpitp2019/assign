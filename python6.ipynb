{
 "cells": [
  {
   "cell_type": "markdown",
   "metadata": {},
   "source": [
    "1. What are escape characters, and how do you use them?\n",
    "Escape characters are special characters used in strings to represent characters that are difficult to input directly, such as newline, tab, or special symbols. They are preceded by a backslash (). For example, '\\n' represents a newline character, and '\\t' represents a tab character.\n",
    "\n",
    "2. What do the escape characters n and t stand for?\n",
    "\n",
    "'\\n' stands for a newline character.\n",
    "'\\t' stands for a tab character.\n",
    "\n",
    "3. What is the way to include backslash characters in a string?\n",
    "To include a literal backslash character in a string, you can use a double backslash ('\\'). For example, \"This is a backslash: \\\\\".\n",
    "\n",
    "4. The string \"Howl's Moving Castle\" is a correct value. Why isn't the single quote character in the word Howl's not escaped a problem?\n",
    "In this case, the single quote inside the string is not a problem because the string is enclosed in double quotes. You can use single quotes inside double-quoted strings without escaping them, and vice versa."
   ]
  },
  {
   "cell_type": "code",
   "execution_count": 4,
   "metadata": {},
   "outputs": [],
   "source": [
    "'''5. How do you write a string of newlines if you don't want to use the n character?\n",
    "You can use triple-quoted strings (single or double) to create a string with newlines without using the '\\n' escape character. For example:'''\n",
    "\n",
    "multiline_string = '''This is a\n",
    "multiline string.'''"
   ]
  },
  {
   "cell_type": "markdown",
   "metadata": {},
   "source": [
    "6. What are the values of the given expressions?\n",
    "\n",
    "'Hello, world!'[1] returns 'e'\n",
    "'Hello, world!'[0:5] returns 'Hello'\n",
    "'Hello, world!'[:5] returns 'Hello'\n",
    "'Hello, world!'[3:] returns 'lo, world!'\n",
    "\n",
    "\n",
    "7. What are the values of the following expressions?\n",
    "\n",
    "'Hello'.upper() returns 'HELLO'\n",
    "'Hello'.upper().isupper() returns True\n",
    "'Hello'.upper().lower() returns 'hello'\n",
    "\n",
    "\n",
    "8. What are the values of the following expressions?\n",
    "\n",
    "'Remember, remember, the fifth of July.'.split() splits the string into a list of words: ['Remember,', 'remember,', 'the', 'fifth', 'of', 'July.'].\n",
    "'-'.join('There can only be one.'.split()) joins the list of words using '-' as a separator: 'There-can-only-be-one.'.\n",
    "\n",
    "\n",
    "9. What are the methods for right-justifying, left-justifying, and centering a string?\n",
    "\n",
    "To right-justify a string, you can use the .rjust(width) method.\n",
    "To left-justify a string, you can use the .ljust(width) method.\n",
    "To center a string, you can use the .center(width) method."
   ]
  },
  {
   "cell_type": "code",
   "execution_count": 5,
   "metadata": {},
   "outputs": [],
   "source": [
    "'''What is the best way to remove whitespace characters from the start or end?\n",
    "You can use the .strip() method to remove whitespace characters from both the start and end of a string. \n",
    "To remove only leading whitespace, use .lstrip(), and to remove trailing whitespace, use .rstrip(). \n",
    "For example:'''\n",
    "\n",
    "text = \"   This is a text with spaces.   \"\n",
    "stripped_text = text.strip()\n",
    "# stripped_text is now \"This is a text with spaces.\""
   ]
  },
  {
   "cell_type": "code",
   "execution_count": null,
   "metadata": {},
   "outputs": [],
   "source": []
  }
 ],
 "metadata": {
  "kernelspec": {
   "display_name": "base",
   "language": "python",
   "name": "python3"
  },
  "language_info": {
   "codemirror_mode": {
    "name": "ipython",
    "version": 3
   },
   "file_extension": ".py",
   "mimetype": "text/x-python",
   "name": "python",
   "nbconvert_exporter": "python",
   "pygments_lexer": "ipython3",
   "version": "3.11.5"
  }
 },
 "nbformat": 4,
 "nbformat_minor": 2
}
