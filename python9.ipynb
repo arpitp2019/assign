{
 "cells": [
  {
   "cell_type": "markdown",
   "metadata": {},
   "source": [
    "1. To what does a relative path refer?\n",
    "A relative path refers to the location of a file or directory relative to the current working directory. It does not specify the exact location from the root of the file system but instead describes a path starting from where your program is currently executing.\n",
    "\n",
    "2. What does an absolute path start with in your operating system?\n",
    "An absolute path in an operating system typically starts with the root directory or drive letter (e.g., \"C:\\\" on Windows, \"/\" on Unix-based systems). It provides a complete and specific path from the root of the file system to the file or directory in question.\n",
    "\n",
    "3. What do the functions os.getcwd() and os.chdir() do?\n",
    "\n",
    "os.getcwd(): This function returns the current working directory as a string, representing the path where your Python script or program is currently executing.\n",
    "os.chdir(path): This function changes the current working directory to the specified path, allowing you to navigate to a different directory in the file system.\n",
    "\n",
    "\n",
    "4. What are the . and .. folders?\n",
    "\n",
    ". represents the current directory.\n",
    ".. represents the parent directory (the directory one level up in the hierarchy) relative to the current directory.\n",
    "\n",
    "\n",
    "5. In C:\\bacon\\eggs\\spam.txt, which part is the dir name, and which part is the base name?\n",
    "\n",
    "Directory Name: C:\\bacon\\eggs\n",
    "Base Name: spam.txt\n",
    "\n",
    "\n",
    "6. What are the three \"mode\" arguments that can be passed to the open() function?\n",
    "The open() function in Python accepts three main mode arguments:\n",
    "\n",
    "'r': Read mode (default). Opens the file for reading.\n",
    "'w': Write mode. Opens the file for writing, truncating the file if it already exists or creating a new empty file if it doesn't exist.\n",
    "'a': Append mode. Opens the file for writing, but appends data to the end of the file instead of truncating it. Creates a new file if it doesn't exist.\n",
    "\n",
    "\n",
    "7. What happens if an existing file is opened in write mode?\n",
    "If an existing file is opened in write mode ('w') using the open() function, it will be truncated, meaning all its existing content will be deleted. If the file doesn't exist, a new empty file with the specified name will be created.\n",
    "\n",
    "8. How do you tell the difference between read() and readlines()?\n",
    "\n",
    "read(): The read() method of a file object reads the entire contents of the file as a single string or bytes object (depending on whether the file is opened in text or binary mode). It reads the entire file content at once.\n",
    "readlines(): The readlines() method reads the lines of the file and returns them as a list of strings. Each line in the file becomes an element in the list.\n",
    "\n",
    "\n",
    "9. What data structure does a shelf value resemble?\n",
    "A shelf value in Python resembles a dictionary. It is a persistent, dictionary-like data structure that allows you to store key-value pairs on disk. Shelves are typically used to store and retrieve data between program runs and provide a dictionary-like interface for working with stored data."
   ]
  }
 ],
 "metadata": {
  "language_info": {
   "name": "python"
  }
 },
 "nbformat": 4,
 "nbformat_minor": 2
}
