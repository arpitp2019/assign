{
 "cells": [
  {
   "cell_type": "code",
   "execution_count": null,
   "metadata": {},
   "outputs": [],
   "source": [
    "def extract_unique_values(dictionary):\n",
    "    unique_values = set()\n",
    "    for values in dictionary.values():\n",
    "        unique_values.update(values)\n",
    "    return list(unique_values)\n",
    "\n",
    "# Example usage:\n",
    "my_dict = {'A': [1, 2, 3], 'B': [2, 3, 4], 'C': [3, 4, 5]}\n",
    "result = extract_unique_values(my_dict)\n",
    "print(result)\n"
   ]
  },
  {
   "cell_type": "code",
   "execution_count": null,
   "metadata": {},
   "outputs": [],
   "source": [
    "def sum_of_dict_values(dictionary):\n",
    "    total = sum(dictionary.values())\n",
    "    return total\n",
    "\n",
    "# Example usage:\n",
    "my_dict = {'A': 10, 'B': 20, 'C': 30}\n",
    "result = sum_of_dict_values(my_dict)\n",
    "print(result)\n"
   ]
  },
  {
   "cell_type": "code",
   "execution_count": null,
   "metadata": {},
   "outputs": [],
   "source": [
    "def merge_dictionaries(dict1, dict2):\n",
    "    merged_dict = {**dict1, **dict2}\n",
    "    return merged_dict\n",
    "\n",
    "# Example usage:\n",
    "dict1 = {'A': 1, 'B': 2}\n",
    "dict2 = {'C': 3, 'D': 4}\n",
    "result = merge_dictionaries(dict1, dict2)\n",
    "print(result)\n"
   ]
  },
  {
   "cell_type": "code",
   "execution_count": null,
   "metadata": {},
   "outputs": [],
   "source": [
    "def list_to_dict(key_value_list):\n",
    "    flat_dict = {}\n",
    "    for key, value in key_value_list:\n",
    "        flat_dict[key] = value\n",
    "    return flat_dict\n",
    "\n",
    "# Example usage:\n",
    "key_value_list = [('A', 1), ('B', 2), ('C', 3)]\n",
    "result = list_to_dict(key_value_list)\n",
    "print(result)\n"
   ]
  },
  {
   "cell_type": "code",
   "execution_count": null,
   "metadata": {},
   "outputs": [],
   "source": [
    "from collections import OrderedDict\n",
    "\n",
    "def insert_at_beginning(ordered_dict, key, value):\n",
    "    ordered_dict.move_to_end(key, last=False)\n",
    "    ordered_dict[key] = value\n",
    "\n",
    "# Example usage:\n",
    "my_ordered_dict = OrderedDict([('A', 1), ('B', 2), ('C', 3)])\n",
    "insert_at_beginning(my_ordered_dict, 'D', 4)\n",
    "print(my_ordered_dict)\n"
   ]
  },
  {
   "cell_type": "code",
   "execution_count": null,
   "metadata": {},
   "outputs": [],
   "source": [
    "from collections import OrderedDict\n",
    "\n",
    "def check_order_of_characters(input_string, pattern):\n",
    "    pattern_dict = OrderedDict.fromkeys(pattern, 0)\n",
    "    index = 0\n",
    "\n",
    "    for char in input_string:\n",
    "        if char in pattern_dict:\n",
    "            pattern_dict[char] = index\n",
    "            index += 1\n",
    "\n",
    "    for key, value in pattern_dict.items():\n",
    "        if value == 0:\n",
    "            return False\n",
    "\n",
    "    return True\n",
    "\n",
    "# Example usage:\n",
    "input_str = \"hello world\"\n",
    "pattern = \"hlo\"\n",
    "result = check_order_of_characters(input_str, pattern)\n",
    "print(result)\n"
   ]
  },
  {
   "cell_type": "code",
   "execution_count": null,
   "metadata": {},
   "outputs": [],
   "source": [
    "def sort_dict_by_key(dictionary):\n",
    "    sorted_dict = dict(sorted(dictionary.items()))\n",
    "    return sorted_dict\n",
    "\n",
    "def sort_dict_by_value(dictionary):\n",
    "    sorted_dict = dict(sorted(dictionary.items(), key=lambda item: item[1]))\n",
    "    return sorted_dict\n",
    "\n",
    "# Example usage:\n",
    "my_dict = {'B': 3, 'A': 1, 'C': 2}\n",
    "sorted_by_key = sort_dict_by_key(my_dict)\n",
    "sorted_by_value = sort_dict_by_value(my_dict)\n",
    "print(\"Sorted by key:\", sorted_by_key)\n",
    "print(\"Sorted by value:\", sorted_by_value)\n"
   ]
  },
  {
   "cell_type": "code",
   "execution_count": null,
   "metadata": {},
   "outputs": [],
   "source": []
  }
 ],
 "metadata": {
  "language_info": {
   "name": "python"
  }
 },
 "nbformat": 4,
 "nbformat_minor": 2
}
