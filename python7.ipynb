{
 "cells": [
  {
   "cell_type": "markdown",
   "metadata": {},
   "source": [
    "1. What is the name of the feature responsible for generating Regex objects?\n",
    "The feature responsible for generating Regex objects in Python is the re module.\n",
    "\n",
    "2. Why do raw strings often appear in Regex objects?\n",
    "Raw strings (indicated by an 'r' prefix) are often used in Regex objects because they prevent backslashes from being treated as escape characters. In regular expressions, backslashes are frequently used to escape special characters, so using raw strings makes it easier to write and read regular expressions.\n",
    "\n",
    "3. What is the return value of the search() method?\n",
    "The search() method in Python's re module returns a Match object if a match is found, and None if no match is found.\n",
    "\n",
    "4. From a Match item, how do you get the actual strings that match the pattern?\n",
    "You can use the group() method of the Match object to retrieve the actual strings that match the pattern. group(0) returns the entire matched string, and you can use group(1), group(2), etc., to access captured groups within the pattern.\n",
    "\n",
    "6. In the regex created from the r'(\\d\\d\\d)-(\\d\\d\\d-\\d\\d\\d\\d)', what does group zero cover? Group 2? Group 1?\n",
    "\n",
    "Group 0 (or group(0)) covers the entire matched string.\n",
    "Group 1 (or group(1)) covers the first set of three digits.\n",
    "Group 2 (or group(2)) covers the second set of three digits separated by a hyphen.\n",
    "\n",
    "\n",
    "7. In standard expression syntax, parentheses and intervals have distinct meanings. How can you tell a regex that you want it to fit real parentheses and periods?\n",
    "To match literal parentheses and periods in a regular expression, you need to escape them using backslashes. For example, to match a literal period, you would use \\. in your regex pattern.\n",
    "\n",
    "8. The findall() method returns a string list or a list of string tuples. What causes it to return one of the two options?\n",
    "The findall() method returns a list of string tuples when the regular expression pattern contains capturing groups (parentheses). Each tuple represents a match, and the elements of the tuple correspond to the captured groups within the pattern. If there are no capturing groups, it returns a list of strings representing the entire matched text.\n",
    "\n",
    "9. In standard expressions, what does the | character mean?\n",
    "In regular expressions, the | character is used as an alternation operator, meaning \"or.\" It allows you to specify multiple alternatives within a pattern. For example, A|B matches either 'A' or 'B'.\n",
    "\n",
    "10. In regular expressions, what does the . character stand for?\n",
    "In regular expressions, the . character is a special metacharacter that matches any character except a newline character.\n",
    "\n",
    "In regular expressions, what is the difference between the + and * characters?\n",
    "\n",
    "+ matches one or more occurrences of the preceding element. For example, a+ matches one or more 'a' characters.\n",
    "* matches zero or more occurrences of the preceding element. For example, a* matches zero or more 'a' characters.\n",
    "\n",
    "\n",
    "11. What is the difference between {4} and {4,5} in regular expressions?\n",
    "\n",
    "{4} specifies that the preceding element must occur exactly four times.\n",
    "{4,5} specifies that the preceding element must occur between four and five times (inclusive).\n",
    "\n",
    "\n",
    "12. What do the \\d, \\w, and \\s shorthand character classes signify in regular expressions?\n",
    "\n",
    "\\d matches any digit (equivalent to [0-9]).\n",
    "\\w matches any word character (alphanumeric characters and underscores, equivalent to [a-zA-Z0-9_]).\n",
    "\\s matches any whitespace character (spaces, tabs, newlines, etc.).\n",
    "\n",
    "\n",
    "13. What do the \\D, \\W, and \\S shorthand character classes signify in regular expressions?\n",
    "\n",
    "\\D matches any non-digit character (equivalent to [^0-9]).\n",
    "\\W matches any non-word character (equivalent to [^a-zA-Z0-9_]).\n",
    "\\S matches any non-whitespace character.\n",
    "\n",
    "14. What is the difference between .*? and .* in regular expressions?\n",
    "\n",
    ".*? is a non-greedy quantifier, which matches as few characters as possible while still allowing the overall pattern to match. It matches the shortest possible substring.\n",
    ".* is a greedy quantifier, which matches as many characters as possible while still allowing the overall pattern to match. It matches the longest possible substring.\n",
    "\n",
    "\n",
    "15. What is the syntax for matching both numbers and lowercase letters with a character class?\n",
    "\n",
    "You can use the character class [0-9a-z] to match both numbers (0-9) and lowercase letters (a-z)."
   ]
  },
  {
   "cell_type": "code",
   "execution_count": 2,
   "metadata": {},
   "outputs": [],
   "source": [
    "'''16. What is the procedure for making a regular expression in regex case insensitive?\n",
    "To make a regular expression case-insensitive, you can use the re.IGNORECASE (or re.I) \n",
    "flag when compiling the regular expression pattern with re.compile(). For example:'''\n",
    "import re\n",
    "pattern = re.compile(r'some_pattern', re.IGNORECASE)"
   ]
  },
  {
   "cell_type": "markdown",
   "metadata": {},
   "source": [
    "17. What does the . character normally match? What does it match if re.DOTALL is passed as the 2nd argument in re.compile()?\n",
    "\n",
    "Normally, the . character matches any character except a newline character (\\n).\n",
    "If re.DOTALL is passed as the second argument in re.compile(), the . character will match any character, including newline characters.\n",
    "\n",
    "\n",
    "18. If numRegex = re.compile(r'\\d+'), what will numRegex.sub('X', '11 drummers, 10 pipers, five rings, 4 hens') return?\n",
    "numRegex.sub('X', '11 drummers, 10 pipers, five rings, 4 hens') will return the string 'X drummers, X pipers, five rings, X hens'. It replaces all sequences of digits with 'X'.\n",
    "\n",
    "19. What does passing re.VERBOSE as the 2nd argument to re.compile() allow you to do?\n",
    "Passing re.VERBOSE as the second argument to re.compile() allows you to write more readable and well-documented regular expressions. It ignores whitespace and allows you to add comments within the pattern for clarity."
   ]
  },
  {
   "cell_type": "code",
   "execution_count": 3,
   "metadata": {},
   "outputs": [],
   "source": [
    "'''How would you write a regex that matches a number with a comma for every three digits?\n",
    "You can write a regex to match a number with a comma for every three digits as follows:'''\n",
    "\n",
    "pattern = re.compile(r'\\d{1,3}(,\\d{3})*')"
   ]
  },
  {
   "cell_type": "code",
   "execution_count": null,
   "metadata": {},
   "outputs": [],
   "source": []
  }
 ],
 "metadata": {
  "kernelspec": {
   "display_name": "base",
   "language": "python",
   "name": "python3"
  },
  "language_info": {
   "codemirror_mode": {
    "name": "ipython",
    "version": 3
   },
   "file_extension": ".py",
   "mimetype": "text/x-python",
   "name": "python",
   "nbconvert_exporter": "python",
   "pygments_lexer": "ipython3",
   "version": "3.11.5"
  }
 },
 "nbformat": 4,
 "nbformat_minor": 2
}
