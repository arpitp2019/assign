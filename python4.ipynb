{
 "cells": [
  {
   "cell_type": "markdown",
   "metadata": {},
   "source": [
    "1. [] is an empty list in Python."
   ]
  },
  {
   "cell_type": "code",
   "execution_count": 7,
   "metadata": {},
   "outputs": [
    {
     "name": "stdout",
     "output_type": "stream",
     "text": [
      "[2, 4, 'hello', 8, 10]\n"
     ]
    }
   ],
   "source": [
    "## question bumber 2\n",
    "spam = [2, 4, 6, 8, 10] \n",
    "spam[2] = 'hello'\n",
    "print(spam)"
   ]
  },
  {
   "cell_type": "markdown",
   "metadata": {},
   "source": [
    "spam[int(int('3' * 2) / 11)] evaluates to spam[3], which is 'd' in the list ['a', 'b', 'c', 'd'].\n",
    "\n",
    "spam[-1] refers to the last element in the list, which is 'd' in the list ['a', 'b', 'c', 'd'].\n",
    "\n",
    "spam[:2] returns a sublist containing the first two elements of spam, which is ['a', 'b'].\n",
    "\n",
    "bacon.index('cat') returns the index of the first occurrence of 'cat' in the list bacon. In this case, it would be 0.\n",
    "\n",
    "bacon.append(99) adds the value 99 to the end of the list bacon, so bacon would now be [3.14, 'cat', 11, 'cat', True, 99].\n",
    "\n",
    "bacon.remove('cat') removes the first occurrence of 'cat' from the list bacon. After this operation, bacon would be [3.14, 11, 'cat', True].\n",
    "\n",
    "List concatenation uses the + operator to combine two or more lists, while list replication uses the * operator to repeat a list a certain number of times.\n",
    "\n",
    "The append() method is used to add an element to the end of a list, while the insert() method is used to insert an element at a specific position in the list.\n",
    "\n",
    "The two methods for removing items from a list are remove() (removes the first occurrence of a value) and pop() (removes an item at a specific index and returns it).\n",
    "\n",
    "List values and string values are similar in that both can store sequences of items. However, list values are mutable (can be modified), whereas string values are immutable (cannot be modified once created).\n",
    "\n",
    "Lists and tuples are both used to store collections of items in Python. The main difference is that lists are mutable (can be modified), while tuples are immutable (cannot be modified after creation).\n",
    "\n",
    "To create a tuple value that only contains the integer 42, you can use parentheses like this: (42,)."
   ]
  },
  {
   "cell_type": "markdown",
   "metadata": {},
   "source": [
    "15. \n",
    "\n",
    "#### Converting a list to a tuple\n",
    "my_list = [1, 2, 3]\n",
    "my_tuple = tuple(my_list)\n",
    "\n",
    "#### Converting a tuple to a list\n",
    "my_tuple = (4, 5, 6)\n",
    "my_list = list(my_tuple)\n"
   ]
  },
  {
   "cell_type": "markdown",
   "metadata": {},
   "source": [
    "16. Variables in Python that \"contain\" list values actually contain references to the lists. In Python, objects like lists are stored in memory, and variables hold references or pointers to the memory locations where the actual objects are stored. This means that if you assign a list to multiple variables, all of those variables will reference the same list in memory. Therefore, changes made to the list through one variable will affect the list when accessed through other variables."
   ]
  },
  {
   "cell_type": "code",
   "execution_count": 9,
   "metadata": {},
   "outputs": [
    {
     "name": "stdout",
     "output_type": "stream",
     "text": [
      "[1, [99, 3]]\n",
      "[1, [99, 3]]\n",
      "[1, [2, 3]]\n"
     ]
    }
   ],
   "source": [
    "#17. \n",
    "\n",
    "import copy\n",
    "\n",
    "original_list = [1, [2, 3]]\n",
    "\n",
    "shallow_copy = copy.copy(original_list)\n",
    "deep_copy = copy.deepcopy(original_list)\n",
    "\n",
    "# modifying the original_list\n",
    "original_list[1][0] = 99\n",
    "\n",
    "print(original_list)     # [1, [99, 3]]\n",
    "print(shallow_copy)      # [1, [99, 3]]\n",
    "print(deep_copy)         # [1, [2, 3]]\n"
   ]
  },
  {
   "cell_type": "code",
   "execution_count": null,
   "metadata": {},
   "outputs": [],
   "source": []
  }
 ],
 "metadata": {
  "kernelspec": {
   "display_name": "base",
   "language": "python",
   "name": "python3"
  },
  "language_info": {
   "codemirror_mode": {
    "name": "ipython",
    "version": 3
   },
   "file_extension": ".py",
   "mimetype": "text/x-python",
   "name": "python",
   "nbconvert_exporter": "python",
   "pygments_lexer": "ipython3",
   "version": "3.11.5"
  }
 },
 "nbformat": 4,
 "nbformat_minor": 2
}
