{
 "cells": [
  {
   "cell_type": "code",
   "execution_count": null,
   "metadata": {},
   "outputs": [],
   "source": [
    "# Function to generate Fibonacci sequence using recursion\n",
    "def fibonacci(n):\n",
    "    if n <= 0:\n",
    "        return []\n",
    "    elif n == 1:\n",
    "        return [0]\n",
    "    elif n == 2:\n",
    "        return [0, 1]\n",
    "    else:\n",
    "        fib = fibonacci(n - 1)\n",
    "        fib.append(fib[-1] + fib[-2])\n",
    "        return fib\n",
    "\n",
    "# Input the number of terms\n",
    "n = int(input(\"Enter the number of terms in the Fibonacci sequence: \"))\n",
    "\n",
    "# Display the Fibonacci sequence\n",
    "fib_seq = fibonacci(n)\n",
    "print(\"Fibonacci sequence:\", fib_seq)\n"
   ]
  },
  {
   "cell_type": "code",
   "execution_count": null,
   "metadata": {},
   "outputs": [],
   "source": [
    "# Function to find factorial using recursion\n",
    "def factorial(n):\n",
    "    if n == 0:\n",
    "        return 1\n",
    "    else:\n",
    "        return n * factorial(n - 1)\n",
    "\n",
    "# Input a number\n",
    "num = int(input(\"Enter a number: \"))\n",
    "\n",
    "# Calculate and print factorial\n",
    "fact = factorial(num)\n",
    "print(\"Factorial of\", num, \"is\", fact)\n"
   ]
  },
  {
   "cell_type": "code",
   "execution_count": null,
   "metadata": {},
   "outputs": [],
   "source": [
    "# Input weight in kilograms and height in meters\n",
    "weight = float(input(\"Enter your weight (in kg): \"))\n",
    "height = float(input(\"Enter your height (in meters): \"))\n",
    "\n",
    "# Calculate BMI\n",
    "bmi = weight / (height * height)\n",
    "\n",
    "# Display BMI category\n",
    "if bmi < 18.5:\n",
    "    category = \"Underweight\"\n",
    "elif 18.5 <= bmi < 24.9:\n",
    "    category = \"Normal Weight\"\n",
    "elif 25 <= bmi < 29.9:\n",
    "    category = \"Overweight\"\n",
    "else:\n",
    "    category = \"Obese\"\n",
    "\n",
    "print(\"Your BMI is {:.2f} and you are classified as {}\".format(bmi, category))\n"
   ]
  },
  {
   "cell_type": "code",
   "execution_count": null,
   "metadata": {},
   "outputs": [],
   "source": [
    "import math\n",
    "\n",
    "# Input a number\n",
    "num = float(input(\"Enter a number: \"))\n",
    "\n",
    "# Calculate the natural logarithm (base e)\n",
    "if num > 0:\n",
    "    natural_log = math.log(num)\n",
    "    print(\"Natural logarithm of\", num, \"is\", natural_log)\n",
    "else:\n",
    "    print(\"Invalid input. Natural logarithm is not defined for non-positive numbers.\")\n"
   ]
  },
  {
   "cell_type": "code",
   "execution_count": null,
   "metadata": {},
   "outputs": [],
   "source": [
    "# Input the number of natural numbers\n",
    "n = int(input(\"Enter the number of natural numbers: \"))\n",
    "\n",
    "# Calculate the cube sum\n",
    "cube_sum = sum(i**3 for i in range(1, n + 1))\n",
    "\n",
    "print(\"Cube sum of the first\", n, \"natural numbers is\", cube_sum)\n"
   ]
  },
  {
   "cell_type": "code",
   "execution_count": null,
   "metadata": {},
   "outputs": [],
   "source": []
  },
  {
   "cell_type": "code",
   "execution_count": null,
   "metadata": {},
   "outputs": [],
   "source": []
  }
 ],
 "metadata": {
  "kernelspec": {
   "display_name": "base",
   "language": "python",
   "name": "python3"
  },
  "language_info": {
   "codemirror_mode": {
    "name": "ipython",
    "version": 3
   },
   "file_extension": ".py",
   "mimetype": "text/x-python",
   "name": "python",
   "nbconvert_exporter": "python",
   "pygments_lexer": "ipython3",
   "version": "3.11.5"
  }
 },
 "nbformat": 4,
 "nbformat_minor": 2
}
