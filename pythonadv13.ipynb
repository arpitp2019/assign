{
 "cells": [
  {
   "cell_type": "code",
   "execution_count": null,
   "metadata": {},
   "outputs": [],
   "source": [
    "import math\n",
    "\n",
    "C = 50\n",
    "H = 30\n",
    "\n",
    "def calculate_q(d_values):\n",
    "    result = []\n",
    "    for d in d_values:\n",
    "        Q = int(math.sqrt((2 * C * d) / H))\n",
    "        result.append(Q)\n",
    "    return result\n",
    "\n",
    "input_sequence = input(\"Enter comma-separated values of D: \")\n",
    "D_values = [int(x) for x in input_sequence.split(\",\")]\n",
    "output_values = calculate_q(D_values)\n",
    "print(\",\".join(map(str, output_values)))\n"
   ]
  },
  {
   "cell_type": "code",
   "execution_count": null,
   "metadata": {},
   "outputs": [],
   "source": [
    "def generate_2d_array(X, Y):\n",
    "    result = [[i * j for j in range(Y)] for i in range(X)]\n",
    "    return result\n",
    "\n",
    "X, Y = map(int, input(\"Enter values of X and Y separated by a comma: \").split(\",\"))\n",
    "output_array = generate_2d_array(X, Y)\n",
    "for row in output_array:\n",
    "    print(row)\n"
   ]
  },
  {
   "cell_type": "code",
   "execution_count": null,
   "metadata": {},
   "outputs": [],
   "source": [
    "input_sequence = input(\"Enter comma-separated words: \")\n",
    "words = input_sequence.split(\",\")\n",
    "sorted_words = sorted(words)\n",
    "output_sequence = \",\".join(sorted_words)\n",
    "print(output_sequence)\n"
   ]
  },
  {
   "cell_type": "code",
   "execution_count": null,
   "metadata": {},
   "outputs": [],
   "source": [
    "input_sequence = input(\"Enter space-separated words: \")\n",
    "words = input_sequence.split()\n",
    "unique_words = list(set(words))\n",
    "unique_words.sort()\n",
    "output_sequence = \" \".join(unique_words)\n",
    "print(output_sequence)\n"
   ]
  },
  {
   "cell_type": "code",
   "execution_count": null,
   "metadata": {},
   "outputs": [],
   "source": [
    "input_sentence = input(\"Enter a sentence: \")\n",
    "letters = 0\n",
    "digits = 0\n",
    "\n",
    "for char in input_sentence:\n",
    "    if char.isalpha():\n",
    "        letters += 1\n",
    "    elif char.isdigit():\n",
    "        digits += 1\n",
    "\n",
    "print(\"LETTERS\", letters)\n",
    "print(\"DIGITS\", digits)\n"
   ]
  },
  {
   "cell_type": "code",
   "execution_count": null,
   "metadata": {},
   "outputs": [],
   "source": [
    "import re\n",
    "\n",
    "def is_valid_password(password):\n",
    "    if len(password) < 6 or len(password) > 12:\n",
    "        return False\n",
    "    if not re.search(\"[a-z]\", password):\n",
    "        return False\n",
    "    if not re.search(\"[0-9]\", password):\n",
    "        return False\n",
    "    if not re.search(\"[A-Z]\", password):\n",
    "        return False\n",
    "    if not re.search(\"[$#@]\", password):\n",
    "        return False\n",
    "    return True\n",
    "\n",
    "input_passwords = input(\"Enter comma-separated passwords: \").split(\",\")\n",
    "valid_passwords = [password for password in input_passwords if is_valid_password(password)]\n",
    "print(\",\".join(valid_passwords))\n"
   ]
  },
  {
   "cell_type": "code",
   "execution_count": null,
   "metadata": {},
   "outputs": [],
   "source": []
  },
  {
   "cell_type": "code",
   "execution_count": null,
   "metadata": {},
   "outputs": [],
   "source": []
  }
 ],
 "metadata": {
  "language_info": {
   "name": "python"
  }
 },
 "nbformat": 4,
 "nbformat_minor": 2
}
