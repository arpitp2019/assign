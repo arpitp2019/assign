{
 "cells": [
  {
   "cell_type": "code",
   "execution_count": 2,
   "metadata": {},
   "outputs": [
    {
     "name": "stdout",
     "output_type": "stream",
     "text": [
      "Factorial of 45 is 119622220865480194561963161495657715064383733760000000000\n"
     ]
    }
   ],
   "source": [
    "# Input a number\n",
    "num = int(input(\"Enter a number: \"))\n",
    "\n",
    "# Initialize the factorial to 1\n",
    "factorial = 1\n",
    "\n",
    "# Calculate factorial\n",
    "if num < 0:\n",
    "    print(\"Factorial is not defined for negative numbers.\")\n",
    "elif num == 0:\n",
    "    print(\"Factorial of 0 is 1\")\n",
    "else:\n",
    "    for i in range(1, num + 1):\n",
    "        factorial *= i\n",
    "    print(\"Factorial of\", num, \"is\", factorial)\n"
   ]
  },
  {
   "cell_type": "code",
   "execution_count": null,
   "metadata": {},
   "outputs": [],
   "source": [
    "# Input a number for the table\n",
    "num = int(input(\"Enter a number: \"))\n",
    "\n",
    "# Display multiplication table\n",
    "print(\"Multiplication table for\", num)\n",
    "for i in range(1, 11):\n",
    "    print(num, \"x\", i, \"=\", num * i)\n"
   ]
  },
  {
   "cell_type": "code",
   "execution_count": null,
   "metadata": {},
   "outputs": [],
   "source": [
    "# Input the number of terms in the sequence\n",
    "n = int(input(\"Enter the number of terms: \"))\n",
    "\n",
    "# Initialize the first two terms\n",
    "a, b = 0, 1\n",
    "\n",
    "# Generate and print the Fibonacci sequence\n",
    "print(\"Fibonacci sequence:\")\n",
    "for _ in range(n):\n",
    "    print(a, end=\" \")\n",
    "    a, b = b, a + b\n"
   ]
  },
  {
   "cell_type": "code",
   "execution_count": null,
   "metadata": {},
   "outputs": [],
   "source": [
    "# Input a number\n",
    "num = int(input(\"Enter a number: \"))\n",
    "\n",
    "# Calculate the number of digits in the number\n",
    "num_str = str(num)\n",
    "num_digits = len(num_str)\n",
    "\n",
    "# Calculate the sum of nth powers of its digits\n",
    "sum = 0\n",
    "temp = num\n",
    "while temp > 0:\n",
    "    digit = temp % 10\n",
    "    sum += digit ** num_digits\n",
    "    temp //= 10\n",
    "\n",
    "# Check if it's an Armstrong number\n",
    "if num == sum:\n",
    "    print(num, \"is an Armstrong number\")\n",
    "else:\n",
    "    print(num, \"is not an Armstrong number\")\n"
   ]
  },
  {
   "cell_type": "code",
   "execution_count": null,
   "metadata": {},
   "outputs": [],
   "source": [
    "# Input the interval\n",
    "lower = int(input(\"Enter lower bound of the interval: \"))\n",
    "upper = int(input(\"Enter upper bound of the interval: \"))\n",
    "\n",
    "# Check for Armstrong numbers in the interval and print them\n",
    "print(\"Armstrong numbers in the interval\", lower, \"-\", upper, \"are:\")\n",
    "for num in range(lower, upper + 1):\n",
    "    num_str = str(num)\n",
    "    num_digits = len(num_str)\n",
    "    sum = 0\n",
    "    temp = num\n",
    "    while temp > 0:\n",
    "        digit = temp % 10\n",
    "        sum += digit ** num_digits\n",
    "        temp //= 10\n",
    "    if num == sum:\n",
    "        print(num)\n"
   ]
  },
  {
   "cell_type": "code",
   "execution_count": null,
   "metadata": {},
   "outputs": [],
   "source": [
    "# Input a positive integer\n",
    "n = int(input(\"Enter a positive integer: \"))\n",
    "\n",
    "# Calculate the sum of natural numbers\n",
    "if n < 1:\n",
    "    print(\"Please enter a positive integer.\")\n",
    "else:\n",
    "    sum = (n * (n + 1)) // 2\n",
    "    print(\"Sum of the first\", n, \"natural numbers is\", sum)\n"
   ]
  }
 ],
 "metadata": {
  "kernelspec": {
   "display_name": "base",
   "language": "python",
   "name": "python3"
  },
  "language_info": {
   "codemirror_mode": {
    "name": "ipython",
    "version": 3
   },
   "file_extension": ".py",
   "mimetype": "text/x-python",
   "name": "python",
   "nbconvert_exporter": "python",
   "pygments_lexer": "ipython3",
   "version": "3.11.5"
  }
 },
 "nbformat": 4,
 "nbformat_minor": 2
}
