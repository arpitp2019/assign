{
 "cells": [
  {
   "cell_type": "code",
   "execution_count": null,
   "metadata": {},
   "outputs": [],
   "source": [
    "def sum_of_elements(lst):\n",
    "    return sum(lst)\n",
    "\n",
    "my_list = [1, 2, 3, 4, 5]\n",
    "result = sum_of_elements(my_list)\n",
    "print(\"Sum of elements in the list:\", result)\n"
   ]
  },
  {
   "cell_type": "code",
   "execution_count": null,
   "metadata": {},
   "outputs": [],
   "source": [
    "def multiply_all(lst):\n",
    "    result = 1\n",
    "    for num in lst:\n",
    "        result *= num\n",
    "    return result\n",
    "\n",
    "my_list = [1, 2, 3, 4, 5]\n",
    "result = multiply_all(my_list)\n",
    "print(\"Product of all numbers in the list:\", result)\n"
   ]
  },
  {
   "cell_type": "code",
   "execution_count": null,
   "metadata": {},
   "outputs": [],
   "source": [
    "def find_smallest(lst):\n",
    "    return min(lst)\n",
    "\n",
    "my_list = [5, 2, 8, 1, 9]\n",
    "result = find_smallest(my_list)\n",
    "print(\"Smallest number in the list:\", result)\n"
   ]
  },
  {
   "cell_type": "code",
   "execution_count": null,
   "metadata": {},
   "outputs": [],
   "source": [
    "def find_largest(lst):\n",
    "    return max(lst)\n",
    "\n",
    "my_list = [5, 2, 8, 1, 9]\n",
    "result = find_largest(my_list)\n",
    "print(\"Largest number in the list:\", result)\n"
   ]
  },
  {
   "cell_type": "code",
   "execution_count": null,
   "metadata": {},
   "outputs": [],
   "source": [
    "def find_second_largest(lst):\n",
    "    sorted_lst = sorted(set(lst), reverse=True)\n",
    "    if len(sorted_lst) < 2:\n",
    "        return \"List does not have a second largest element.\"\n",
    "    return sorted_lst[1]\n",
    "\n",
    "my_list = [5, 2, 8, 1, 9]\n",
    "result = find_second_largest(my_list)\n",
    "print(\"Second largest number in the list:\", result)\n"
   ]
  },
  {
   "cell_type": "code",
   "execution_count": null,
   "metadata": {},
   "outputs": [],
   "source": [
    "def find_n_largest(lst, n):\n",
    "    return sorted(lst, reverse=True)[:n]\n",
    "\n",
    "my_list = [5, 2, 8, 1, 9]\n",
    "n = 3\n",
    "result = find_n_largest(my_list, n)\n",
    "print(f\"{n} largest elements in the list:\", result)\n"
   ]
  },
  {
   "cell_type": "code",
   "execution_count": null,
   "metadata": {},
   "outputs": [],
   "source": [
    "def even_numbers(lst):\n",
    "    return [num for num in lst if num % 2 == 0]\n",
    "\n",
    "my_list = [1, 2, 3, 4, 5, 6]\n",
    "result = even_numbers(my_list)\n",
    "print(\"Even numbers in the list:\", result)\n"
   ]
  },
  {
   "cell_type": "code",
   "execution_count": null,
   "metadata": {},
   "outputs": [],
   "source": [
    "def odd_numbers(lst):\n",
    "    return [num for num in lst if num % 2 != 0]\n",
    "\n",
    "my_list = [1, 2, 3, 4, 5, 6]\n",
    "result = odd_numbers(my_list)\n",
    "print(\"Odd numbers in the list:\", result)\n"
   ]
  },
  {
   "cell_type": "code",
   "execution_count": null,
   "metadata": {},
   "outputs": [],
   "source": [
    "def remove_empty_lists(lst):\n",
    "    return [sublist for sublist in lst if sublist]\n",
    "\n",
    "my_list = [1, 2, [], 3, [], 4, [], 5]\n",
    "result = remove_empty_lists(my_list)\n",
    "print(\"List with empty lists removed:\", result)\n"
   ]
  },
  {
   "cell_type": "code",
   "execution_count": null,
   "metadata": {},
   "outputs": [],
   "source": [
    "def clone_list(lst):\n",
    "    return lst.copy()\n",
    "\n",
    "original_list = [1, 2, 3, 4, 5]\n",
    "copied_list = clone_list(original_list)\n",
    "print(\"Original List:\", original_list)\n",
    "print(\"Copied List:\", copied_list)\n"
   ]
  },
  {
   "cell_type": "code",
   "execution_count": null,
   "metadata": {},
   "outputs": [],
   "source": [
    "def count_occurrences(lst, element):\n",
    "    return lst.count(element)\n",
    "\n",
    "my_list = [1, 2, 3, 4, 2, 5, 2]\n",
    "element = 2\n",
    "result = count_occurrences(my_list, element)\n",
    "print(f\"{element} appears {result} times in the list.\")\n"
   ]
  },
  {
   "cell_type": "code",
   "execution_count": null,
   "metadata": {},
   "outputs": [],
   "source": []
  }
 ],
 "metadata": {
  "kernelspec": {
   "display_name": "base",
   "language": "python",
   "name": "python3"
  },
  "language_info": {
   "codemirror_mode": {
    "name": "ipython",
    "version": 3
   },
   "file_extension": ".py",
   "mimetype": "text/x-python",
   "name": "python",
   "nbconvert_exporter": "python",
   "pygments_lexer": "ipython3",
   "version": "3.11.5"
  }
 },
 "nbformat": 4,
 "nbformat_minor": 2
}
