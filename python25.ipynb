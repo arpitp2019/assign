{
 "cells": [
  {
   "cell_type": "markdown",
   "metadata": {},
   "source": [
    "1. Difference between enclosing a list comprehension in square brackets and parentheses:\n",
    "\n",
    "Square brackets [...] are used to create a list comprehension, which generates a list from an iterable using a concise and readable syntax.\n",
    "Parentheses (...) are used to create a generator expression, which generates an iterator. Generator expressions are similar to list comprehensions but produce values on-the-fly as they are needed, making them more memory-efficient when dealing with large datasets.\n",
    "List comprehensions eagerly generate the entire list and store it in memory, while generator expressions lazily yield values one at a time, avoiding the need to store the entire result in memory.\n",
    "Relationship between generators and iterators:\n",
    "\n",
    "2. Generators and iterators are closely related concepts in Python.\n",
    "An iterator is an object that implements the __iter__() and __next__() methods, allowing it to be iterated over using a for loop or by calling the next() function.\n",
    "Generators are a specific type of iterator created using a function with one or more yield statements. Generator functions produce iterator objects.\n",
    "Generator functions are a way to create iterators in a more concise and readable manner.\n",
    "Signs that a function is a generator function:\n",
    "\n",
    "3. A function is considered a generator function if it contains at least one yield statement.\n",
    "Generator functions use the yield keyword to yield values one at a time, and they suspend their state between yields, allowing them to resume execution when called again.\n",
    "Purpose of a yield statement:\n",
    "\n",
    "4. The yield statement is used in generator functions to produce a value to the caller and temporarily suspend the function's execution.\n",
    "When a generator function encounters a yield statement, it yields the specified value to the caller and saves its state.\n",
    "The purpose of yield is to allow the generator to be resumed from where it left off when iterated over, avoiding the need to generate and store all values in memory at once.\n",
    "Relationship between map calls and list comprehensions:\n",
    "\n",
    "5. Both map() calls and list comprehensions are used to transform elements of an iterable.\n",
    "map() applies a specified function to each item in an iterable and returns a map object (iterator) containing the results.\n",
    "List comprehensions create a new list by applying an expression to each item in an iterable and returning a list containing the results.\n",
    "List comprehensions are often considered more readable and concise for simple transformations, while map() may be used when working with functions that are already defined and need to be applied to multiple iterables simultaneously."
   ]
  },
  {
   "cell_type": "markdown",
   "metadata": {},
   "source": []
  }
 ],
 "metadata": {
  "language_info": {
   "name": "python"
  }
 },
 "nbformat": 4,
 "nbformat_minor": 2
}
