{
 "cells": [
  {
   "cell_type": "code",
   "execution_count": null,
   "metadata": {},
   "outputs": [],
   "source": [
    "def find_words_greater_than_length(text, k):\n",
    "    words = text.split()\n",
    "    result = [word for word in words if len(word) > k]\n",
    "    return result\n",
    "\n",
    "# Example usage:\n",
    "text = \"This is a sample text with some words of different lengths\"\n",
    "k = 4\n",
    "result = find_words_greater_than_length(text, k)\n",
    "print(result)\n"
   ]
  },
  {
   "cell_type": "code",
   "execution_count": null,
   "metadata": {},
   "outputs": [],
   "source": [
    "def remove_ith_character(input_string, i):\n",
    "    if 0 <= i < len(input_string):\n",
    "        return input_string[:i] + input_string[i + 1:]\n",
    "    else:\n",
    "        return \"Invalid index\"\n",
    "\n",
    "# Example usage:\n",
    "input_string = \"Hello, World!\"\n",
    "i = 5\n",
    "result = remove_ith_character(input_string, i)\n",
    "print(result)\n"
   ]
  },
  {
   "cell_type": "code",
   "execution_count": null,
   "metadata": {},
   "outputs": [],
   "source": [
    "def split_and_join(input_string):\n",
    "    words = input_string.split()\n",
    "    joined_string = \"-\".join(words)\n",
    "    return joined_string\n",
    "\n",
    "# Example usage:\n",
    "input_string = \"This is a sample sentence.\"\n",
    "result = split_and_join(input_string)\n",
    "print(result)\n"
   ]
  },
  {
   "cell_type": "code",
   "execution_count": null,
   "metadata": {},
   "outputs": [],
   "source": [
    "def is_binary_string(input_string):\n",
    "    for char in input_string:\n",
    "        if char not in '01':\n",
    "            return False\n",
    "    return True\n",
    "\n",
    "# Example usage:\n",
    "input_string = \"1010101\"\n",
    "result = is_binary_string(input_string)\n",
    "print(result)\n"
   ]
  },
  {
   "cell_type": "code",
   "execution_count": null,
   "metadata": {},
   "outputs": [],
   "source": [
    "def find_uncommon_words(str1, str2):\n",
    "    words1 = set(str1.split())\n",
    "    words2 = set(str2.split())\n",
    "    uncommon_words = words1.symmetric_difference(words2)\n",
    "    return list(uncommon_words)\n",
    "\n",
    "# Example usage:\n",
    "string1 = \"This is a sample sentence.\"\n",
    "string2 = \"This is another sentence with some different words.\"\n",
    "result = find_uncommon_words(string1, string2)\n",
    "print(result)\n"
   ]
  },
  {
   "cell_type": "code",
   "execution_count": null,
   "metadata": {},
   "outputs": [],
   "source": [
    "def find_duplicate_characters(input_string):\n",
    "    char_count = {}\n",
    "    duplicates = []\n",
    "\n",
    "    for char in input_string:\n",
    "        if char in char_count:\n",
    "            char_count[char] += 1\n",
    "        else:\n",
    "            char_count[char] = 1\n",
    "\n",
    "    for char, count in char_count.items():\n",
    "        if count > 1:\n",
    "            duplicates.append(char)\n",
    "\n",
    "    return duplicates\n",
    "\n",
    "# Example usage:\n",
    "input_string = \"programming\"\n",
    "result = find_duplicate_characters(input_string)\n",
    "print(result)\n"
   ]
  },
  {
   "cell_type": "code",
   "execution_count": null,
   "metadata": {},
   "outputs": [],
   "source": [
    "import re\n",
    "\n",
    "def contains_special_character(input_string):\n",
    "    special_chars = re.compile('[@_!#$%^&*()<>?/\\|}{~:]')\n",
    "    return special_chars.search(input_string) is not None\n",
    "\n",
    "# Example usage:\n",
    "input_string = \"Hello World!\"\n",
    "result = contains_special_character(input_string)\n",
    "print(result)\n"
   ]
  }
 ],
 "metadata": {
  "language_info": {
   "name": "python"
  }
 },
 "nbformat": 4,
 "nbformat_minor": 2
}
