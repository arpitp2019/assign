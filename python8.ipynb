{
 "cells": [
  {
   "cell_type": "markdown",
   "metadata": {},
   "source": [
    "1. Is the Python Standard Library included with PyInputPlus?\n",
    "No, PyInputPlus is not part of the Python Standard Library. It is a separate Python package that you need to install independently if you want to use it.\n",
    "\n",
    "2. Why is PyInputPlus commonly imported with import pyinputplus as pypi?\n",
    "It's common to import PyInputPlus with import pyinputplus as pypi to provide a shorter and more convenient alias for the module when using its functions. Using pypi as an alias makes it easier to call PyInputPlus functions and methods with shorter and cleaner code.\n",
    "\n",
    "3. How do you distinguish between inputInt() and inputFloat()?\n",
    "In PyInputPlus, you can use the inputInt() function to specifically prompt the user for an integer input, and it will continue to prompt until a valid integer is provided. Similarly, you can use the inputFloat() function to prompt for a floating-point number, and it will repeatedly prompt until a valid float is entered."
   ]
  },
  {
   "cell_type": "code",
   "execution_count": 1,
   "metadata": {},
   "outputs": [
    {
     "name": "stdout",
     "output_type": "stream",
     "text": [
      "Enter a number: "
     ]
    }
   ],
   "source": [
    "'''4. Using PyInputPlus, how do you ensure that the user enters a whole number between 0 and 99?\n",
    "You can use the inputInt() function with the min and max keyword arguments to ensure that the user\n",
    "enters a whole number between 0 and 99 as follows:'''\n",
    "\n",
    "import pyinputplus as pyip\n",
    "\n",
    "user_input = pyip.inputInt(prompt='Enter a number: ', min=0, max=99)"
   ]
  },
  {
   "cell_type": "markdown",
   "metadata": {},
   "source": [
    "5. What is transferred to the keyword arguments allowRegexes and blockRegexes?\n",
    "The allowRegexes and blockRegexes keyword arguments in PyInputPlus are used to transfer lists of regular expressions. allowRegexes specifies a list of regular expressions that are allowed as valid inputs, while blockRegexes specifies a list of regular expressions that are not allowed as valid inputs. PyInputPlus uses these lists to validate user inputs based on the provided regular expressions.\n",
    "\n",
    "6. If a blank input is entered three times, what does inputStr(limit=3) do?\n",
    "If a blank input (empty string) is entered three times, and you use inputStr(limit=3), it will raise a pyinputplus.RetryLimitException. This exception is raised when the user exceeds the specified limit (in this case, 3 attempts) without providing a valid input.\n",
    "\n",
    "7. If blank input is entered three times, what does inputStr(limit=3, default='hello') do?\n",
    "If blank input is entered three times, and you use inputStr(limit=3, default='hello'), it will return the default value 'hello' after the third unsuccessful attempt. The default keyword argument specifies the value to return when the user exceeds the limit without providing a valid input."
   ]
  },
  {
   "cell_type": "markdown",
   "metadata": {},
   "source": []
  }
 ],
 "metadata": {
  "kernelspec": {
   "display_name": "base",
   "language": "python",
   "name": "python3"
  },
  "language_info": {
   "codemirror_mode": {
    "name": "ipython",
    "version": 3
   },
   "file_extension": ".py",
   "mimetype": "text/x-python",
   "name": "python",
   "nbconvert_exporter": "python",
   "pygments_lexer": "ipython3",
   "version": "3.11.5"
  }
 },
 "nbformat": 4,
 "nbformat_minor": 2
}
