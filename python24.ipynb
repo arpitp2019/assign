{
 "cells": [
  {
   "cell_type": "markdown",
   "metadata": {},
   "source": [
    "1. The relationship between def statements and lambda expressions:\n",
    "\n",
    "def statements are used to define named functions in Python, which are typically multi-line and can have any number of statements within them.\n",
    "Lambda expressions, on the other hand, are used to create small, anonymous functions (also known as lambda functions) in a single line of code.\n",
    "Both def statements and lambda expressions define functions, but lambda expressions are often used for simple, short functions that can be defined inline.\n",
    "\n",
    "2. The benefit of lambda:\n",
    "\n",
    "Lambdas provide a concise way to create small, throwaway functions without the need to define a named function using def.\n",
    "They are often used when a simple function is needed as an argument to another function, such as map, filter, and sorted.\n",
    "Lambdas are useful in situations where defining a full function with a name and def statement would be overkill.\n",
    "\n",
    "\n",
    "3. Comparison of map, filter, and reduce:\n",
    "\n",
    "map applies a given function to each item in an iterable and returns a new iterable containing the results.\n",
    "filter filters elements from an iterable based on a given function (predicate) and returns a new iterable containing only the elements that satisfy the condition.\n",
    "reduce is used to aggregate values in an iterable using a given function and returns a single accumulated result.\n",
    "Function annotations:\n",
    "\n",
    "4.  Function annotations are a way to attach metadata to the parameters and return value of a function using colons (:) in the function definition.\n",
    "They are not enforced by Python itself and do not change the behavior of the function. Instead, they provide additional information about the function's expected inputs and outputs.\n",
    "Annotations can be used for documentation purposes or by external tools and libraries.\n",
    "Example: def add(a: int, b: int) -> int: specifies that a and b are expected to be integers, and the function returns an integer.\n",
    "Recursive functions:\n",
    "\n",
    "5. Recursive functions are functions that call themselves in their own definition.\n",
    "They are often used to solve problems that can be divided into smaller, similar subproblems.\n",
    "A recursive function should have a base case that defines when the recursion should stop to avoid infinite recursion.\n",
    "General design guidelines for coding functions:\n",
    "\n",
    "6. Functions should have clear and descriptive names that indicate their purpose.\n",
    "Functions should have a clear and single responsibility, following the Single Responsibility Principle (SRP).\n",
    "Functions should use meaningful parameter names and have docstrings to explain their purpose and usage.\n",
    "Functions should be relatively short and not overly complex, adhering to the Don't Repeat Yourself (DRY) principle.\n",
    "Avoid using global variables within functions when possible.\n",
    "Functions should have well-defined input and output, with type hints provided when appropriate.\n",
    "Ways functions can communicate results to a caller:\n",
    "\n",
    "7. Return values: Functions can return results using the return statement.\n",
    "Print statements: Functions can use print statements to display results on the console.\n",
    "Modifying mutable objects: Functions can modify mutable objects passed as arguments, and the caller can access the modified object after the function call.\n",
    "Exceptions: Functions can raise exceptions to signal errors or exceptional conditions to the caller.\n",
    "Global variables: Functions can modify or access global variables to communicate information to the caller (not recommended for data integrity)."
   ]
  }
 ],
 "metadata": {
  "language_info": {
   "name": "python"
  }
 },
 "nbformat": 4,
 "nbformat_minor": 2
}
