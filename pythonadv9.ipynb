{
 "cells": [
  {
   "cell_type": "code",
   "execution_count": null,
   "metadata": {},
   "outputs": [],
   "source": [
    "def is_disarium_number(num):\n",
    "    num_str = str(num)\n",
    "    n = len(num_str)\n",
    "    sum_of_digits = sum(int(digit) ** n for digit in num_str)\n",
    "    return num == sum_of_digits\n",
    "\n",
    "num = int(input(\"Enter a number: \"))\n",
    "if is_disarium_number(num):\n",
    "    print(f\"{num} is a Disarium number.\")\n",
    "else:\n",
    "    print(f\"{num} is not a Disarium number.\")\n"
   ]
  },
  {
   "cell_type": "code",
   "execution_count": null,
   "metadata": {},
   "outputs": [],
   "source": [
    "def is_disarium_number(num):\n",
    "    num_str = str(num)\n",
    "    n = len(num_str)\n",
    "    sum_of_digits = sum(int(digit) ** n for digit in num_str)\n",
    "    return num == sum_of_digits\n",
    "\n",
    "disarium_numbers = [num for num in range(1, 101) if is_disarium_number(num)]\n",
    "print(\"Disarium numbers between 1 and 100:\", disarium_numbers)\n"
   ]
  },
  {
   "cell_type": "code",
   "execution_count": null,
   "metadata": {},
   "outputs": [],
   "source": [
    "def is_happy_number(num):\n",
    "    seen = set()\n",
    "    while num != 1 and num not in seen:\n",
    "        seen.add(num)\n",
    "        num = sum(int(digit) ** 2 for digit in str(num))\n",
    "    return num == 1\n",
    "\n",
    "num = int(input(\"Enter a number: \"))\n",
    "if is_happy_number(num):\n",
    "    print(f\"{num} is a Happy number.\")\n",
    "else:\n",
    "    print(f\"{num} is not a Happy number.\")\n"
   ]
  },
  {
   "cell_type": "code",
   "execution_count": null,
   "metadata": {},
   "outputs": [],
   "source": [
    "def is_happy_number(num):\n",
    "    seen = set()\n",
    "    while num != 1 and num not in seen:\n",
    "        seen.add(num)\n",
    "        num = sum(int(digit) ** 2 for digit in str(num))\n",
    "    return num == 1\n",
    "\n",
    "happy_numbers = [num for num in range(1, 101) if is_happy_number(num)]\n",
    "print(\"Happy numbers between 1 and 100:\", happy_numbers)\n"
   ]
  },
  {
   "cell_type": "code",
   "execution_count": null,
   "metadata": {},
   "outputs": [],
   "source": [
    "def is_harshad_number(num):\n",
    "    if num <= 0:\n",
    "        return False\n",
    "    sum_of_digits = sum(int(digit) for digit in str(num))\n",
    "    return num % sum_of_digits == 0\n",
    "\n",
    "num = int(input(\"Enter a number: \"))\n",
    "if is_harshad_number(num):\n",
    "    print(f\"{num} is a Harshad number.\")\n",
    "else:\n",
    "    print(f\"{num} is not a Harshad number.\")\n"
   ]
  },
  {
   "cell_type": "code",
   "execution_count": null,
   "metadata": {},
   "outputs": [],
   "source": [
    "def is_pronic_number(num):\n",
    "    for i in range(1, int(num**0.5) + 1):\n",
    "        if i * (i + 1) == num:\n",
    "            return True\n",
    "    return False\n",
    "\n",
    "pronic_numbers = [num for num in range(1, 101) if is_pronic_number(num)]\n",
    "print(\"Pronic numbers between 1 and 100:\", pronic_numbers)\n"
   ]
  },
  {
   "cell_type": "code",
   "execution_count": null,
   "metadata": {},
   "outputs": [],
   "source": []
  }
 ],
 "metadata": {
  "language_info": {
   "name": "python"
  }
 },
 "nbformat": 4,
 "nbformat_minor": 2
}
